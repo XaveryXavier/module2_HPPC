{
 "cells": [
  {
   "cell_type": "code",
   "execution_count": null,
   "metadata": {},
   "outputs": [],
   "source": [
    "import numpy as np\n",
    "import matplotlib.pyplot as plt\n",
    "import pandas as pd\n",
    "import os"
   ]
  },
  {
   "cell_type": "code",
   "execution_count": 53,
   "metadata": {},
   "outputs": [],
   "source": [
    "def read_analisys(file) : \n",
    "    time_percentage = np.array([])\n",
    "    total_time = np.array([])\n",
    "    self_seconds = np.array([])\n",
    "    calls = np.array([])\n",
    "    self_ms_call = np.array([])\n",
    "    total_ms_call = np.array([])\n",
    "    name = np.array([])\n",
    "    with open(file, 'r') as f:\n",
    "        lines = f.readlines()[5:]\n",
    "    for line in lines:\n",
    "        words = line.split()\n",
    "        if len(words) < 7 :\n",
    "            time_percentage = np.append(time_percentage, float(words[0]))\n",
    "            total_time = np.append(total_time, float(words[1]))\n",
    "            self_seconds = np.append(self_seconds, float(words[2]))\n",
    "            calls = np.append(calls, ('Nan'))\n",
    "            self_ms_call = np.append(self_ms_call, ('Nan'))\n",
    "            total_ms_call = np.append(total_ms_call, ('Nan'))\n",
    "            name = np.append(name, str(words[3:]))\n",
    "\n",
    "        else: \n",
    "            time_percentage = np.append(time_percentage, float(words[0]))\n",
    "            total_time = np.append(total_time, float(words[1]))\n",
    "            self_seconds = np.append(self_seconds, float(words[2]))\n",
    "            calls = np.append(calls, int(words[3]))\n",
    "            self_ms_call = np.append(self_ms_call, float(words[4]))\n",
    "            total_ms_call = np.append(total_ms_call, float(words[5]))\n",
    "            name = np.append(name, str(words[6:]))\n",
    "\n",
    "    df = pd.DataFrame({\n",
    "        'Time Percentage': time_percentage,\n",
    "        'Total Time': total_time,\n",
    "        'Self Seconds': self_seconds,\n",
    "        'Calls': calls,\n",
    "        'Self ms/Call': self_ms_call,\n",
    "        'Total ms/Call': total_ms_call,\n",
    "        'Name': [n.strip(\"[]'\") for n in name]\n",
    "    })\n",
    "    return df\n",
    "\n",
    "seq_dataframes = []\n",
    "vec_dataframes = []\n",
    "\n",
    "for i in [10 , 100, 1000, 10000] : \n",
    "    seq_dataframes.append(read_analisys(f\"data/seq_analysis_{i}.txt\"))\n",
    "    vec_dataframes.append(read_analisys(f\"data/vec_analysis_{i}.txt\"))"
   ]
  }
 ],
 "metadata": {
  "kernelspec": {
   "display_name": "Python 3",
   "language": "python",
   "name": "python3"
  },
  "language_info": {
   "codemirror_mode": {
    "name": "ipython",
    "version": 3
   },
   "file_extension": ".py",
   "mimetype": "text/x-python",
   "name": "python",
   "nbconvert_exporter": "python",
   "pygments_lexer": "ipython3",
   "version": "3.10.12"
  }
 },
 "nbformat": 4,
 "nbformat_minor": 2
}
